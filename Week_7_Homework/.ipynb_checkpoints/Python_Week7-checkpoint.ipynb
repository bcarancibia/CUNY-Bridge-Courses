{
 "metadata": {
  "name": "",
  "signature": "sha256:ad9dbe67c605cbc4de153052e54f8f7dc2724d0df191e0684e0be6b917cd8b2e"
 },
 "nbformat": 3,
 "nbformat_minor": 0,
 "worksheets": [
  {
   "cells": [
    {
     "cell_type": "code",
     "collapsed": false,
     "input": [
      "from bs4 import BeautifulSoup\n",
      "\n",
      "soup = BeautifulSoup(open(\"International Aid Transparency Initiative (IATI).html\"))\n",
      "soup1 = BeautifulSoup(\"<html>data</html>\")\n",
      "\n",
      "soup = BeautifulSoup(soup)\n",
      "for link in article.find_all('a'):\n",
      "    print(link.get('href'))"
     ],
     "language": "python",
     "metadata": {},
     "outputs": []
    }
   ],
   "metadata": {}
  }
 ]
}